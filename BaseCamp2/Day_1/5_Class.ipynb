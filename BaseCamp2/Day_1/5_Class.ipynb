{
 "cells": [
  {
   "cell_type": "markdown",
   "metadata": {},
   "source": [
    "### Class & Object\n",
    "In Python, classes and objects are the building blocks of Object-Oriented Programming (OOP).  \n",
    "This helps structure code by bundling data and behavior into reusable, logical units  \n",
    "\n",
    "**Class** is like a blueprint — it defines the structure and behavior of an object.  \n",
    "Think of it as a template that describes what attributes (data) and methods (functions) its objects will have  \n",
    "Python class supports encapsulation, inheritance, and polymorphism — the pillars of OOP"
   ]
  },
  {
   "cell_type": "code",
   "execution_count": 1,
   "metadata": {},
   "outputs": [],
   "source": [
    "# Class is defined with the keyword\n",
    "# __init__ method is the constructor of the class. This is the function, that is called when an object is created from class\n",
    "# Python does not have notion of public / private method (unlike the OO languages). Its by naming convention\n",
    "\n",
    "class BankAccount:\n",
    "    \n",
    "    # Init method as constructor\n",
    "    def __init__(self, account_number, balance=0):\n",
    "        self.account_number = account_number\n",
    "        self.__balance = balance          # private attribute\n",
    "\n",
    "    # Specific methods.\n",
    "    def deposit(self, amount):\n",
    "        if amount > 0:\n",
    "            self.__balance += amount\n",
    "            print(f\"₹{amount} deposited. New balance: ₹{self.__balance}\")\n",
    "        else:\n",
    "            print(\"Invalid deposit amount.\")\n",
    "\n",
    "    def withdraw(self, amount):\n",
    "        if 0 < amount <= self.__balance:\n",
    "            self.__balance -= amount\n",
    "            print(f\"₹{amount} withdrawn. Remaining balance: ₹{self.__balance}\")\n",
    "        else:\n",
    "            print(\"Insufficient balance or invalid amount.\")\n",
    "\n",
    "    def get_balance(self):\n",
    "        if self.__balance > 0 :\n",
    "            return f\"Current balance: ₹{self.__balance}\"\n",
    "        else:\n",
    "            return \"Your account has zero balance.\""
   ]
  },
  {
   "cell_type": "markdown",
   "metadata": {},
   "source": [
    "An **object** is an instance of a class.  \n",
    "When you create an object, you’re bringing the class to life — with actual values and the ability to perform actions."
   ]
  },
  {
   "cell_type": "code",
   "execution_count": 2,
   "metadata": {},
   "outputs": [
    {
     "name": "stdout",
     "output_type": "stream",
     "text": [
      "₹5000 deposited. New balance: ₹15000\n",
      "Your account has zero balance.\n",
      "₹1000 withdrawn. Remaining balance: ₹14000\n",
      "Current balance: ₹14000\n"
     ]
    }
   ],
   "source": [
    "# Object is created by calling the class (in fact the init method of it) with required arguments\n",
    "# Each object has its data 'owned' by it. Methods access the respective objects' data\n",
    "Cust_1 = BankAccount (account_number='00125678253', balance=10000)\n",
    "Cust_2 = BankAccount (account_number='02145668263')\n",
    "\n",
    "# Transcations\n",
    "Cust_1.deposit (5000)\n",
    "Ret = Cust_2.get_balance ()\n",
    "print (Ret)\n",
    "\n",
    "Cust_1.withdraw (1000)\n",
    "Ret = Cust_1.get_balance ()\n",
    "print (Ret)\n"
   ]
  },
  {
   "cell_type": "markdown",
   "metadata": {},
   "source": [
    "A **Class** variable is used to consider common across all its instances (objects)  \n",
    "Typical usage is for constants to be used in a class  \n",
    "However, it can also be used as common variable to share data"
   ]
  },
  {
   "cell_type": "code",
   "execution_count": 3,
   "metadata": {},
   "outputs": [],
   "source": [
    "class Employee :\n",
    "\n",
    "    # Not inside any function, without self\n",
    "    Employer = \"XYZ Technologies\"\n",
    "\n",
    "    # Constructor\n",
    "    def __init__(self, EmpId, ManagerId):\n",
    "        \n",
    "        self.EmpId = EmpId\n",
    "        self.ManagerId = ManagerId\n",
    "\n",
    "    def Get_ManagerId (self):\n",
    "        \n",
    "        return self.ManagerId\n",
    "    \n",
    "    def Get_Employer (self):\n",
    "\n",
    "        # Usage at the class level\n",
    "        return Employee.Employer"
   ]
  },
  {
   "cell_type": "code",
   "execution_count": 4,
   "metadata": {},
   "outputs": [
    {
     "name": "stdout",
     "output_type": "stream",
     "text": [
      "14567\n",
      "XYZ Technologies\n"
     ]
    }
   ],
   "source": [
    "# Create an object\n",
    "Vishnu = Employee (EmpId=17789, ManagerId=14567)\n",
    "\n",
    "print (Vishnu.Get_ManagerId())\n",
    "print (Vishnu.Get_Employer())"
   ]
  },
  {
   "cell_type": "code",
   "execution_count": 5,
   "metadata": {},
   "outputs": [
    {
     "ename": "TypeError",
     "evalue": "Employee.Get_Employer() missing 1 required positional argument: 'self'",
     "output_type": "error",
     "traceback": [
      "\u001b[1;31m---------------------------------------------------------------------------\u001b[0m",
      "\u001b[1;31mTypeError\u001b[0m                                 Traceback (most recent call last)",
      "Cell \u001b[1;32mIn[5], line 2\u001b[0m\n\u001b[0;32m      1\u001b[0m \u001b[38;5;66;03m# ?? What would be the output\u001b[39;00m\n\u001b[1;32m----> 2\u001b[0m \u001b[38;5;28mprint\u001b[39m (\u001b[43mEmployee\u001b[49m\u001b[38;5;241;43m.\u001b[39;49m\u001b[43mGet_Employer\u001b[49m\u001b[43m(\u001b[49m\u001b[43m)\u001b[49m)\n",
      "\u001b[1;31mTypeError\u001b[0m: Employee.Get_Employer() missing 1 required positional argument: 'self'"
     ]
    }
   ],
   "source": [
    "# ?? What would be the output\n",
    "print (Employee.Get_Employer())"
   ]
  },
  {
   "cell_type": "markdown",
   "metadata": {},
   "source": [
    "u get error as your calling from class & not object"
   ]
  },
  {
   "cell_type": "code",
   "execution_count": null,
   "metadata": {},
   "outputs": [],
   "source": []
  }
 ],
 "metadata": {
  "kernelspec": {
   "display_name": "Python 3",
   "language": "python",
   "name": "python3"
  },
  "language_info": {
   "codemirror_mode": {
    "name": "ipython",
    "version": 3
   },
   "file_extension": ".py",
   "mimetype": "text/x-python",
   "name": "python",
   "nbconvert_exporter": "python",
   "pygments_lexer": "ipython3",
   "version": "3.11.5"
  }
 },
 "nbformat": 4,
 "nbformat_minor": 2
}
