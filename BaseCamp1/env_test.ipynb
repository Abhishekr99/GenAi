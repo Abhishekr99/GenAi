{
 "cells": [
  {
   "cell_type": "code",
   "execution_count": 2,
   "id": "821ed910",
   "metadata": {},
   "outputs": [
    {
     "name": "stdout",
     "output_type": "stream",
     "text": [
      "Numpy Version is 1.26.4\n"
     ]
    }
   ],
   "source": [
    "import numpy as np\n",
    "print(f\"Numpy Version is {np.version.full_version}\")"
   ]
  },
  {
   "cell_type": "code",
   "execution_count": null,
   "id": "b8bd6a38",
   "metadata": {},
   "outputs": [],
   "source": []
  }
 ],
 "metadata": {
  "kernelspec": {
   "display_name": "old_numpy_env",
   "language": "python",
   "name": "python3"
  },
  "language_info": {
   "codemirror_mode": {
    "name": "ipython",
    "version": 3
   },
   "file_extension": ".py",
   "mimetype": "text/x-python",
   "name": "python",
   "nbconvert_exporter": "python",
   "pygments_lexer": "ipython3",
   "version": "3.11.5"
  }
 },
 "nbformat": 4,
 "nbformat_minor": 5
}
